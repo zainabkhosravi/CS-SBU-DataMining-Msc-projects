{
  "nbformat": 4,
  "nbformat_minor": 0,
  "metadata": {
    "colab": {
      "name": "Group3.lane emden.ipynb",
      "provenance": [],
      "collapsed_sections": [],
      "mount_file_id": "1SzTASaI2Wr_wmr3Clpquaiz_F5GLyecR",
      "authorship_tag": "ABX9TyOoIYXABTe3J4XozUZf8bjQ",
      "include_colab_link": true
    },
    "kernelspec": {
      "name": "python3",
      "display_name": "Python 3"
    },
    "language_info": {
      "name": "python"
    },
    "widgets": {
      "application/vnd.jupyter.widget-state+json": {
        "852909773ffd49b4a9aaea8c6b4df2c1": {
          "model_module": "@jupyter-widgets/controls",
          "model_name": "VBoxModel",
          "model_module_version": "1.5.0",
          "state": {
            "_view_name": "VBoxView",
            "_dom_classes": [
              "widget-interact"
            ],
            "_model_name": "VBoxModel",
            "_view_module": "@jupyter-widgets/controls",
            "_model_module_version": "1.5.0",
            "_view_count": null,
            "_view_module_version": "1.5.0",
            "box_style": "",
            "layout": "IPY_MODEL_a229e6458084499f92131db254da7ff4",
            "_model_module": "@jupyter-widgets/controls",
            "children": [
              "IPY_MODEL_cffbea71e3c24e35b66e04ceabfaf200",
              "IPY_MODEL_5be95f73424a4b63ba19398a58c90a9e",
              "IPY_MODEL_6ce4bd95743e47748047ee9a5272338c"
            ]
          }
        },
        "a229e6458084499f92131db254da7ff4": {
          "model_module": "@jupyter-widgets/base",
          "model_name": "LayoutModel",
          "model_module_version": "1.2.0",
          "state": {
            "_view_name": "LayoutView",
            "grid_template_rows": null,
            "right": null,
            "justify_content": null,
            "_view_module": "@jupyter-widgets/base",
            "overflow": null,
            "_model_module_version": "1.2.0",
            "_view_count": null,
            "flex_flow": null,
            "width": null,
            "min_width": null,
            "border": null,
            "align_items": null,
            "bottom": null,
            "_model_module": "@jupyter-widgets/base",
            "top": null,
            "grid_column": null,
            "overflow_y": null,
            "overflow_x": null,
            "grid_auto_flow": null,
            "grid_area": null,
            "grid_template_columns": null,
            "flex": null,
            "_model_name": "LayoutModel",
            "justify_items": null,
            "grid_row": null,
            "max_height": null,
            "align_content": null,
            "visibility": null,
            "align_self": null,
            "height": null,
            "min_height": null,
            "padding": null,
            "grid_auto_rows": null,
            "grid_gap": null,
            "max_width": null,
            "order": null,
            "_view_module_version": "1.2.0",
            "grid_template_areas": null,
            "object_position": null,
            "object_fit": null,
            "grid_auto_columns": null,
            "margin": null,
            "display": null,
            "left": null
          }
        },
        "cffbea71e3c24e35b66e04ceabfaf200": {
          "model_module": "@jupyter-widgets/controls",
          "model_name": "FloatSliderModel",
          "model_module_version": "1.5.0",
          "state": {
            "_view_name": "FloatSliderView",
            "style": "IPY_MODEL_cf5721de4be242cfa39e4f86af88c621",
            "_dom_classes": [],
            "description": "log_delta_xi",
            "step": 0.01,
            "_model_name": "FloatSliderModel",
            "orientation": "horizontal",
            "max": 0.1,
            "_view_module": "@jupyter-widgets/controls",
            "_model_module_version": "1.5.0",
            "value": -2,
            "_view_count": null,
            "disabled": false,
            "_view_module_version": "1.5.0",
            "min": -6,
            "continuous_update": false,
            "readout_format": ".2f",
            "description_tooltip": null,
            "readout": true,
            "_model_module": "@jupyter-widgets/controls",
            "layout": "IPY_MODEL_744886d12cc84f40856d6003dd125f6d"
          }
        },
        "5be95f73424a4b63ba19398a58c90a9e": {
          "model_module": "@jupyter-widgets/controls",
          "model_name": "FloatSliderModel",
          "model_module_version": "1.5.0",
          "state": {
            "_view_name": "FloatSliderView",
            "style": "IPY_MODEL_5675149010a6492c984b3c5b025d7b73",
            "_dom_classes": [],
            "description": "n",
            "step": 0.01,
            "_model_name": "FloatSliderModel",
            "orientation": "horizontal",
            "max": 4.99,
            "_view_module": "@jupyter-widgets/controls",
            "_model_module_version": "1.5.0",
            "value": 3,
            "_view_count": null,
            "disabled": false,
            "_view_module_version": "1.5.0",
            "min": 0,
            "continuous_update": false,
            "readout_format": ".2f",
            "description_tooltip": null,
            "readout": true,
            "_model_module": "@jupyter-widgets/controls",
            "layout": "IPY_MODEL_2c2a76c345aa4b999999ebfa905bdd19"
          }
        },
        "6ce4bd95743e47748047ee9a5272338c": {
          "model_module": "@jupyter-widgets/output",
          "model_name": "OutputModel",
          "model_module_version": "1.0.0",
          "state": {
            "_view_name": "OutputView",
            "msg_id": "",
            "_dom_classes": [],
            "_model_name": "OutputModel",
            "outputs": [
              {
                "output_type": "stream",
                "name": "stdout",
                "text": [
                  "[0.9999833333333333, -3.333333333333334e-07]\n"
                ]
              },
              {
                "output_type": "display_data",
                "data": {
                  "image/png": "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\n",
                  "text/plain": "<Figure size 432x288 with 1 Axes>"
                },
                "metadata": {
                  "needs_background": "light"
                }
              }
            ],
            "_view_module": "@jupyter-widgets/output",
            "_model_module_version": "1.0.0",
            "_view_count": null,
            "_view_module_version": "1.0.0",
            "layout": "IPY_MODEL_b1060bfad967482884fd6a53808381d0",
            "_model_module": "@jupyter-widgets/output"
          }
        },
        "cf5721de4be242cfa39e4f86af88c621": {
          "model_module": "@jupyter-widgets/controls",
          "model_name": "SliderStyleModel",
          "model_module_version": "1.5.0",
          "state": {
            "_view_name": "StyleView",
            "handle_color": null,
            "_model_name": "SliderStyleModel",
            "description_width": "",
            "_view_module": "@jupyter-widgets/base",
            "_model_module_version": "1.5.0",
            "_view_count": null,
            "_view_module_version": "1.2.0",
            "_model_module": "@jupyter-widgets/controls"
          }
        },
        "744886d12cc84f40856d6003dd125f6d": {
          "model_module": "@jupyter-widgets/base",
          "model_name": "LayoutModel",
          "model_module_version": "1.2.0",
          "state": {
            "_view_name": "LayoutView",
            "grid_template_rows": null,
            "right": null,
            "justify_content": null,
            "_view_module": "@jupyter-widgets/base",
            "overflow": null,
            "_model_module_version": "1.2.0",
            "_view_count": null,
            "flex_flow": null,
            "width": null,
            "min_width": null,
            "border": null,
            "align_items": null,
            "bottom": null,
            "_model_module": "@jupyter-widgets/base",
            "top": null,
            "grid_column": null,
            "overflow_y": null,
            "overflow_x": null,
            "grid_auto_flow": null,
            "grid_area": null,
            "grid_template_columns": null,
            "flex": null,
            "_model_name": "LayoutModel",
            "justify_items": null,
            "grid_row": null,
            "max_height": null,
            "align_content": null,
            "visibility": null,
            "align_self": null,
            "height": null,
            "min_height": null,
            "padding": null,
            "grid_auto_rows": null,
            "grid_gap": null,
            "max_width": null,
            "order": null,
            "_view_module_version": "1.2.0",
            "grid_template_areas": null,
            "object_position": null,
            "object_fit": null,
            "grid_auto_columns": null,
            "margin": null,
            "display": null,
            "left": null
          }
        },
        "5675149010a6492c984b3c5b025d7b73": {
          "model_module": "@jupyter-widgets/controls",
          "model_name": "SliderStyleModel",
          "model_module_version": "1.5.0",
          "state": {
            "_view_name": "StyleView",
            "handle_color": null,
            "_model_name": "SliderStyleModel",
            "description_width": "",
            "_view_module": "@jupyter-widgets/base",
            "_model_module_version": "1.5.0",
            "_view_count": null,
            "_view_module_version": "1.2.0",
            "_model_module": "@jupyter-widgets/controls"
          }
        },
        "2c2a76c345aa4b999999ebfa905bdd19": {
          "model_module": "@jupyter-widgets/base",
          "model_name": "LayoutModel",
          "model_module_version": "1.2.0",
          "state": {
            "_view_name": "LayoutView",
            "grid_template_rows": null,
            "right": null,
            "justify_content": null,
            "_view_module": "@jupyter-widgets/base",
            "overflow": null,
            "_model_module_version": "1.2.0",
            "_view_count": null,
            "flex_flow": null,
            "width": null,
            "min_width": null,
            "border": null,
            "align_items": null,
            "bottom": null,
            "_model_module": "@jupyter-widgets/base",
            "top": null,
            "grid_column": null,
            "overflow_y": null,
            "overflow_x": null,
            "grid_auto_flow": null,
            "grid_area": null,
            "grid_template_columns": null,
            "flex": null,
            "_model_name": "LayoutModel",
            "justify_items": null,
            "grid_row": null,
            "max_height": null,
            "align_content": null,
            "visibility": null,
            "align_self": null,
            "height": null,
            "min_height": null,
            "padding": null,
            "grid_auto_rows": null,
            "grid_gap": null,
            "max_width": null,
            "order": null,
            "_view_module_version": "1.2.0",
            "grid_template_areas": null,
            "object_position": null,
            "object_fit": null,
            "grid_auto_columns": null,
            "margin": null,
            "display": null,
            "left": null
          }
        },
        "b1060bfad967482884fd6a53808381d0": {
          "model_module": "@jupyter-widgets/base",
          "model_name": "LayoutModel",
          "model_module_version": "1.2.0",
          "state": {
            "_view_name": "LayoutView",
            "grid_template_rows": null,
            "right": null,
            "justify_content": null,
            "_view_module": "@jupyter-widgets/base",
            "overflow": null,
            "_model_module_version": "1.2.0",
            "_view_count": null,
            "flex_flow": null,
            "width": null,
            "min_width": null,
            "border": null,
            "align_items": null,
            "bottom": null,
            "_model_module": "@jupyter-widgets/base",
            "top": null,
            "grid_column": null,
            "overflow_y": null,
            "overflow_x": null,
            "grid_auto_flow": null,
            "grid_area": null,
            "grid_template_columns": null,
            "flex": null,
            "_model_name": "LayoutModel",
            "justify_items": null,
            "grid_row": null,
            "max_height": null,
            "align_content": null,
            "visibility": null,
            "align_self": null,
            "height": null,
            "min_height": null,
            "padding": null,
            "grid_auto_rows": null,
            "grid_gap": null,
            "max_width": null,
            "order": null,
            "_view_module_version": "1.2.0",
            "grid_template_areas": null,
            "object_position": null,
            "object_fit": null,
            "grid_auto_columns": null,
            "margin": null,
            "display": null,
            "left": null
          }
        }
      }
    }
  },
  "cells": [
    {
      "cell_type": "markdown",
      "metadata": {
        "id": "view-in-github",
        "colab_type": "text"
      },
      "source": [
        "<a href=\"https://colab.research.google.com/github/zainabkhosravi/CS-SBU-DataMining-Msc-projects/blob/zainabkhosravi-99422067/Group3_lane_emden.ipynb\" target=\"_parent\"><img src=\"https://colab.research.google.com/assets/colab-badge.svg\" alt=\"Open In Colab\"/></a>"
      ]
    },
    {
      "cell_type": "code",
      "source": [
        "from IPython.display import display, Math, Latex\n",
        "import numpy as np\n",
        "np.seterr(divide='ignore', invalid='ignore')\n",
        "\n",
        "%matplotlib inline\n",
        "import matplotlib\n",
        "import matplotlib.pyplot as plt"
      ],
      "metadata": {
        "id": "0_ABbCJ7RTlX"
      },
      "execution_count": 1,
      "outputs": []
    },
    {
      "cell_type": "code",
      "source": [
        "print('Lane-Emden Equation')\n",
        "display(Latex(r'$'\\\n",
        "              r'\\dfrac{\\text{d}}{\\text{d}\\xi}'\\\n",
        "              r'\\left( \\xi^2 \\dfrac{\\text{d}\\theta}{\\text{d}\\xi} \\right)'\\\n",
        "              r'='\\\n",
        "              r'-\\xi^2\\theta^n'\\\n",
        "              r'$'))\n",
        "\n",
        "print(\"Separation of variables\")\n",
        "display(Latex(r'$'\\\n",
        "              r'\\dfrac{\\text{d}y}{\\text{d}\\xi}'\\\n",
        "              r'='\\\n",
        "              r'\\dfrac{z}{\\xi^2}'\\\n",
        "              r'$'))\n",
        "display(Latex(r'$'\\\n",
        "              r'\\dfrac{\\text{d}z}{\\text{d}\\xi}'\\\n",
        "              r'='\\\n",
        "              r'-\\xi^2y^n'\\\n",
        "              r'$'))"
      ],
      "metadata": {
        "colab": {
          "base_uri": "https://localhost:8080/",
          "height": 172
        },
        "id": "3KLubGzHRmpy",
        "outputId": "d56dcda8-a2bb-4519-a21c-2f6888de2099"
      },
      "execution_count": 2,
      "outputs": [
        {
          "output_type": "stream",
          "name": "stdout",
          "text": [
            "Lane-Emden Equation\n"
          ]
        },
        {
          "output_type": "display_data",
          "data": {
            "text/latex": "$\\dfrac{\\text{d}}{\\text{d}\\xi}\\left( \\xi^2 \\dfrac{\\text{d}\\theta}{\\text{d}\\xi} \\right)=-\\xi^2\\theta^n$",
            "text/plain": [
              "<IPython.core.display.Latex object>"
            ]
          },
          "metadata": {}
        },
        {
          "output_type": "stream",
          "name": "stdout",
          "text": [
            "Separation of variables\n"
          ]
        },
        {
          "output_type": "display_data",
          "data": {
            "text/latex": "$\\dfrac{\\text{d}y}{\\text{d}\\xi}=\\dfrac{z}{\\xi^2}$",
            "text/plain": [
              "<IPython.core.display.Latex object>"
            ]
          },
          "metadata": {}
        },
        {
          "output_type": "display_data",
          "data": {
            "text/latex": "$\\dfrac{\\text{d}z}{\\text{d}\\xi}=-\\xi^2y^n$",
            "text/plain": [
              "<IPython.core.display.Latex object>"
            ]
          },
          "metadata": {}
        }
      ]
    },
    {
      "cell_type": "code",
      "source": [
        "def solveLaneEmden(log_delta_xi=-4, n=3):\n",
        "    delta_xi = 10**log_delta_xi\n",
        "    \n",
        "    # Inner boundary condition \n",
        "    y0 = 1 - delta_xi**2/6 \n",
        "    z0 = -delta_xi**3/3 \n",
        "    \n",
        "    print([y0, z0])\n",
        "    \n",
        "    ys  = [y0]\n",
        "    zs  = [z0]\n",
        "    xis = [delta_xi]\n",
        "    ycs = [y0]\n",
        "    zcs = [z0]\n",
        "    while True:\n",
        "        y  =  ys[len(ys)  - 1]\n",
        "        z  =  zs[len(zs)  - 1]\n",
        "        xi = xis[len(xis) - 1]\n",
        "        yc = ycs[len(ycs) - 1]\n",
        "        zc = zcs[len(zcs) - 1]\n",
        "        \n",
        "        ## Primitive method \n",
        "        yi = y + delta_xi * z/xi**2\n",
        "        zi = z + delta_xi * -xi**2*y**n\n",
        "        \n",
        "        ## Predictor-corrector technique \n",
        "        xii = xi + delta_xi\n",
        "        yci = yc + 1/2 * delta_xi * (z/xi**2 + zi/xii**2)\n",
        "        zci = zc + 1/2 * delta_xi * (-xi**2*y**n - xi**2*yi**n)\n",
        "        \n",
        "        # Outer boundary condition \n",
        "        if (yi < 1e-10 or yci < 1e-10): break\n",
        "        \n",
        "        xis += [xii]\n",
        "        ys  += [yi]\n",
        "        zs  += [zi]\n",
        "        ycs += [yci]\n",
        "        zcs += [zci]\n",
        "    \n",
        "    return (xis, ys, ycs)\n",
        "\n",
        "def plotLaneEmden(log_delta_xi=-4, n=3):\n",
        "    xis, ys, ycs = solveLaneEmden(log_delta_xi, n)\n",
        "    \n",
        "    xi2 = np.arange(0, np.sqrt(6), 1e-3)\n",
        "    plt.plot(xi2, 1-xi2**2/6, label='n = 0')\n",
        "    \n",
        "    xi2 = np.arange(0, np.pi, 1e-3)\n",
        "    plt.plot(xi2, np.sin(xi2)/xi2, label='n = 1')\n",
        "    \n",
        "    plt.plot(xis, ys,  'g',   label='n = '+str(n))\n",
        "    plt.plot(xis, ycs, 'k--', label='P-C')\n",
        "    \n",
        "    plt.legend(loc='best')\n",
        "    plt.xlabel(r'$\\xi$')\n",
        "    plt.ylabel(r'$\\theta$')\n",
        "    plt.grid()\n",
        "\n",
        "plotLaneEmden()"
      ],
      "metadata": {
        "colab": {
          "base_uri": "https://localhost:8080/",
          "height": 302
        },
        "id": "Fmf64pVGR-ZC",
        "outputId": "8ef7d874-cfc1-4e37-e268-c690a18e6f64"
      },
      "execution_count": 3,
      "outputs": [
        {
          "output_type": "stream",
          "name": "stdout",
          "text": [
            "[0.9999999983333333, -3.333333333333334e-13]\n"
          ]
        },
        {
          "output_type": "display_data",
          "data": {
            "image/png": "[encoded data removed]",
            "text/plain": [
              "<Figure size 432x288 with 1 Axes>"
            ]
          },
          "metadata": {
            "needs_background": "light"
          }
        }
      ]
    },
    {
      "cell_type": "code",
      "source": [
        "from ipywidgets import interact, interactive, fixed, interact_manual, FloatSlider\n",
        "import ipywidgets as widgets\n",
        "\n",
        "interact(plotLaneEmden, \n",
        "         n=FloatSlider(min=0, max=4.99, step=0.01, value=3, continuous_update=False),\n",
        "         log_delta_xi=FloatSlider(min=-6, max=0.1, step=0.01, value=-2, continuous_update=False));"
      ],
      "metadata": {
        "colab": {
          "base_uri": "https://localhost:8080/",
          "height": 366,
          "referenced_widgets": [
            "852909773ffd49b4a9aaea8c6b4df2c1",
            "a229e6458084499f92131db254da7ff4",
            "cffbea71e3c24e35b66e04ceabfaf200",
            "5be95f73424a4b63ba19398a58c90a9e",
            "6ce4bd95743e47748047ee9a5272338c",
            "cf5721de4be242cfa39e4f86af88c621",
            "744886d12cc84f40856d6003dd125f6d",
            "5675149010a6492c984b3c5b025d7b73",
            "2c2a76c345aa4b999999ebfa905bdd19",
            "b1060bfad967482884fd6a53808381d0"
          ]
        },
        "id": "dhTcf0OYSe1x",
        "outputId": "5e4677a7-aa68-4c37-c62e-a1549a01bde0"
      },
      "execution_count": 4,
      "outputs": [
        {
          "output_type": "display_data",
          "data": {
            "application/vnd.jupyter.widget-view+json": {
              "model_id": "852909773ffd49b4a9aaea8c6b4df2c1",
              "version_minor": 0,
              "version_major": 2
            },
            "text/plain": [
              "interactive(children=(FloatSlider(value=-2.0, continuous_update=False, description='log_delta_xi', max=0.1, mi…"
            ]
          },
          "metadata": {}
        }
      ]
    }
  ]
}