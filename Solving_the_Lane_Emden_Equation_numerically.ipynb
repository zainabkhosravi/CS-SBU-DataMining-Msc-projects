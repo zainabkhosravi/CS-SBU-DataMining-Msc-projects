{
  "nbformat": 4,
  "nbformat_minor": 0,
  "metadata": {
    "colab": {
      "name": "Solving the Lane-Emden Equation numerically.ipynb",
      "provenance": [],
      "collapsed_sections": [],
      "mount_file_id": "1CTKbz9bI06SCblb9sYxoxJ36uP61x34H",
      "authorship_tag": "ABX9TyMrEYDgjuFfTEsNXmGNC11/",
      "include_colab_link": true
    },
    "kernelspec": {
      "name": "python3",
      "display_name": "Python 3"
    },
    "language_info": {
      "name": "python"
    }
  },
  "cells": [
    {
      "cell_type": "markdown",
      "metadata": {
        "id": "view-in-github",
        "colab_type": "text"
      },
      "source": [
        "<a href=\"https://colab.research.google.com/github/zainabkhosravi/CS-SBU-DataMining-Msc-projects/blob/zainabkhosravi-99422067/Solving_the_Lane_Emden_Equation_numerically.ipynb\" target=\"_parent\"><img src=\"https://colab.research.google.com/assets/colab-badge.svg\" alt=\"Open In Colab\"/></a>"
      ]
    },
    {
      "cell_type": "code",
      "metadata": {
        "id": "ngFKj9m06INS",
        "colab": {
          "base_uri": "https://localhost:8080/"
        },
        "outputId": "5730db85-b778-49d4-9d65-c567d682a372"
      },
      "source": [
        "%pylab inline\n",
        "import seaborn as sns\n",
        "sns.set_palette(\"magma\",8)"
      ],
      "execution_count": null,
      "outputs": [
        {
          "output_type": "stream",
          "name": "stdout",
          "text": [
            "Populating the interactive namespace from numpy and matplotlib\n"
          ]
        }
      ]
    },
    {
      "cell_type": "markdown",
      "source": [
        ""
      ],
      "metadata": {
        "id": "FzaXiCXXS_85"
      }
    },
    {
      "cell_type": "code",
      "source": [
        "dxi = 0.001\n",
        "N = 200000\n",
        "for n in range(4,8):\n",
        "    xi = 0.01\n",
        "    theta = 1.0\n",
        "    f1 = 0.0\n",
        "    theta_sol = []\n",
        "    xi_sol = []\n",
        "    for i in range(8):\n",
        "        f1 += -xi**2*theta**(n)*dxi\n",
        "        theta += f1/xi**2*dxi\n",
        "        xi += dxi\n",
        "        theta_sol.append(theta)\n",
        "        xi_sol.append(xi)\n",
        "        if(theta_sol[i]<0 and theta_sol[i-1]>=0):\n",
        "            printn, xi\n",
        "        if(theta_sol[i]>0 and theta_sol[i-1]<=0):\n",
        "            printn, xi\n",
        "    plot(xi_sol, theta_sol) \n",
        "xlim(0,20)\n",
        "ylim(-1,1) \n",
        "axhline(y=0.0,c='black')\n",
        "show()     "
      ],
      "metadata": {
        "colab": {
          "base_uri": "https://localhost:8080/",
          "height": 269
        },
        "id": "UVY_CPdE1n3G",
        "outputId": "d5b4bcad-0a1a-4d29-df63-56e60612b738"
      },
      "execution_count": null,
      "outputs": [
        {
          "output_type": "display_data",
          "data": {
            "image/png": "[encoded data removed]",
            "text/plain": [
              "<Figure size 432x288 with 1 Axes>"
            ]
          },
          "metadata": {
            "needs_background": "light"
          }
        }
      ]
    }
  ]
}